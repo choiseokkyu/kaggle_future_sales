{
 "cells": [
  {
   "cell_type": "code",
   "execution_count": 9,
   "metadata": {},
   "outputs": [],
   "source": [
    "import pandas as pd\n",
    "import numpy as np\n",
    "from pandas import DataFrame\n",
    "\n",
    "from googletrans import Translator \n",
    "pd.set_option('display.html.table_schema', True)"
   ]
  },
  {
   "cell_type": "code",
   "execution_count": 10,
   "metadata": {},
   "outputs": [],
   "source": [
    "shop_df = pd.read_csv('../data/shops_trans.csv', encoding='utf-8')\n",
    "shop_df = shop_df.drop([\"shop_name\"], axis=1)"
   ]
  },
  {
   "cell_type": "code",
   "execution_count": 11,
   "metadata": {},
   "outputs": [],
   "source": [
    "date_df = pd.DataFrame(merged_sample[\"date\"].str.split(\".\").tolist(),  columns = ['day','month','year'])"
   ]
  },
  {
   "cell_type": "code",
   "execution_count": 12,
   "metadata": {},
   "outputs": [],
   "source": [
    "def split(name):\n",
    "    sptname = name.split(' \"')\n",
    "    lastspt = sptname[0].split(\" \")\n",
    "    return lastspt[0]\n",
    "\n",
    "shop_df[\"Region\"] = list(map(split, shop_df.en_shop))"
   ]
  },
  {
   "cell_type": "code",
   "execution_count": 22,
   "metadata": {},
   "outputs": [
    {
     "data": {
      "application/vnd.dataresource+json": {
       "data": [
        {
         "Region": "Yaroslavl",
         "day": "02",
         "en_shop": "Yaroslavl Shopping center \"Altair\"",
         "index": 0,
         "item_cnt_day": 1,
         "item_id": 22154,
         "item_price": 999,
         "month": "01",
         "shop_id": 59,
         "year": "2013"
        },
        {
         "Region": "Yaroslavl",
         "day": "10",
         "en_shop": "Yaroslavl Shopping center \"Altair\"",
         "index": 1,
         "item_cnt_day": 1,
         "item_id": 22151,
         "item_price": 399,
         "month": "01",
         "shop_id": 59,
         "year": "2013"
        },
        {
         "Region": "Yaroslavl",
         "day": "04",
         "en_shop": "Yaroslavl Shopping center \"Altair\"",
         "index": 2,
         "item_cnt_day": 1,
         "item_id": 5603,
         "item_price": 699,
         "month": "01",
         "shop_id": 59,
         "year": "2013"
        },
        {
         "Region": "Yaroslavl",
         "day": "19",
         "en_shop": "Yaroslavl Shopping center \"Altair\"",
         "index": 3,
         "item_cnt_day": 2,
         "item_id": 5587,
         "item_price": 199,
         "month": "01",
         "shop_id": 59,
         "year": "2013"
        },
        {
         "Region": "Yaroslavl",
         "day": "31",
         "en_shop": "Yaroslavl Shopping center \"Altair\"",
         "index": 4,
         "item_cnt_day": 1,
         "item_id": 5613,
         "item_price": 5571,
         "month": "01",
         "shop_id": 59,
         "year": "2013"
        }
       ],
       "schema": {
        "fields": [
         {
          "name": "index",
          "type": "integer"
         },
         {
          "name": "shop_id",
          "type": "integer"
         },
         {
          "name": "item_id",
          "type": "integer"
         },
         {
          "name": "item_price",
          "type": "number"
         },
         {
          "name": "item_cnt_day",
          "type": "number"
         },
         {
          "name": "en_shop",
          "type": "string"
         },
         {
          "name": "Region",
          "type": "string"
         },
         {
          "name": "day",
          "type": "string"
         },
         {
          "name": "month",
          "type": "string"
         },
         {
          "name": "year",
          "type": "string"
         }
        ],
        "pandas_version": "0.20.0",
        "primaryKey": [
         "index"
        ]
       }
      },
      "text/html": [
       "<div>\n",
       "<style scoped>\n",
       "    .dataframe tbody tr th:only-of-type {\n",
       "        vertical-align: middle;\n",
       "    }\n",
       "\n",
       "    .dataframe tbody tr th {\n",
       "        vertical-align: top;\n",
       "    }\n",
       "\n",
       "    .dataframe thead th {\n",
       "        text-align: right;\n",
       "    }\n",
       "</style>\n",
       "<table border=\"1\" class=\"dataframe\">\n",
       "  <thead>\n",
       "    <tr style=\"text-align: right;\">\n",
       "      <th></th>\n",
       "      <th>shop_id</th>\n",
       "      <th>item_id</th>\n",
       "      <th>item_price</th>\n",
       "      <th>item_cnt_day</th>\n",
       "      <th>en_shop</th>\n",
       "      <th>Region</th>\n",
       "      <th>day</th>\n",
       "      <th>month</th>\n",
       "      <th>year</th>\n",
       "    </tr>\n",
       "  </thead>\n",
       "  <tbody>\n",
       "    <tr>\n",
       "      <th>0</th>\n",
       "      <td>59</td>\n",
       "      <td>22154</td>\n",
       "      <td>999.0</td>\n",
       "      <td>1.0</td>\n",
       "      <td>Yaroslavl Shopping center \"Altair\"</td>\n",
       "      <td>Yaroslavl</td>\n",
       "      <td>02</td>\n",
       "      <td>01</td>\n",
       "      <td>2013</td>\n",
       "    </tr>\n",
       "    <tr>\n",
       "      <th>1</th>\n",
       "      <td>59</td>\n",
       "      <td>22151</td>\n",
       "      <td>399.0</td>\n",
       "      <td>1.0</td>\n",
       "      <td>Yaroslavl Shopping center \"Altair\"</td>\n",
       "      <td>Yaroslavl</td>\n",
       "      <td>10</td>\n",
       "      <td>01</td>\n",
       "      <td>2013</td>\n",
       "    </tr>\n",
       "    <tr>\n",
       "      <th>2</th>\n",
       "      <td>59</td>\n",
       "      <td>5603</td>\n",
       "      <td>699.0</td>\n",
       "      <td>1.0</td>\n",
       "      <td>Yaroslavl Shopping center \"Altair\"</td>\n",
       "      <td>Yaroslavl</td>\n",
       "      <td>04</td>\n",
       "      <td>01</td>\n",
       "      <td>2013</td>\n",
       "    </tr>\n",
       "    <tr>\n",
       "      <th>3</th>\n",
       "      <td>59</td>\n",
       "      <td>5587</td>\n",
       "      <td>199.0</td>\n",
       "      <td>2.0</td>\n",
       "      <td>Yaroslavl Shopping center \"Altair\"</td>\n",
       "      <td>Yaroslavl</td>\n",
       "      <td>19</td>\n",
       "      <td>01</td>\n",
       "      <td>2013</td>\n",
       "    </tr>\n",
       "    <tr>\n",
       "      <th>4</th>\n",
       "      <td>59</td>\n",
       "      <td>5613</td>\n",
       "      <td>5571.0</td>\n",
       "      <td>1.0</td>\n",
       "      <td>Yaroslavl Shopping center \"Altair\"</td>\n",
       "      <td>Yaroslavl</td>\n",
       "      <td>31</td>\n",
       "      <td>01</td>\n",
       "      <td>2013</td>\n",
       "    </tr>\n",
       "  </tbody>\n",
       "</table>\n",
       "</div>"
      ],
      "text/plain": [
       "   shop_id  item_id  item_price  item_cnt_day  \\\n",
       "0       59    22154       999.0           1.0   \n",
       "1       59    22151       399.0           1.0   \n",
       "2       59     5603       699.0           1.0   \n",
       "3       59     5587       199.0           2.0   \n",
       "4       59     5613      5571.0           1.0   \n",
       "\n",
       "                              en_shop     Region day month  year  \n",
       "0  Yaroslavl Shopping center \"Altair\"  Yaroslavl  02    01  2013  \n",
       "1  Yaroslavl Shopping center \"Altair\"  Yaroslavl  10    01  2013  \n",
       "2  Yaroslavl Shopping center \"Altair\"  Yaroslavl  04    01  2013  \n",
       "3  Yaroslavl Shopping center \"Altair\"  Yaroslavl  19    01  2013  \n",
       "4  Yaroslavl Shopping center \"Altair\"  Yaroslavl  31    01  2013  "
      ]
     },
     "execution_count": 22,
     "metadata": {},
     "output_type": "execute_result"
    }
   ],
   "source": [
    "sales_df = pd.read_csv(\"../data/sales_train_v2.csv\")\n",
    "merged_sample = pd.merge(sales_df, shop_df, on = \"shop_id\")\n",
    "date_df = pd.DataFrame(merged_sample[\"date\"].str.split(\".\").tolist(),  columns = ['day','month','year'])\n",
    "all_data = pd.merge(merged_sample, date_df, left_index=True, right_index=True)\n",
    "del all_data[\"date_block_num\"]\n",
    "del all_data[\"date\"]\n",
    "all_data.head()"
   ]
  },
  {
   "cell_type": "code",
   "execution_count": 60,
   "metadata": {},
   "outputs": [
    {
     "data": {
      "application/vnd.dataresource+json": {
       "data": [
        {
         "en_category": "PC - Headsets / Headphones",
         "index": 0,
         "item_category_id": 0
        },
        {
         "en_category": "Accessories - PS2",
         "index": 1,
         "item_category_id": 1
        },
        {
         "en_category": "Accessories - PS3",
         "index": 2,
         "item_category_id": 2
        },
        {
         "en_category": "Accessories - PS4",
         "index": 3,
         "item_category_id": 3
        },
        {
         "en_category": "Accessories - PSP",
         "index": 4,
         "item_category_id": 4
        }
       ],
       "schema": {
        "fields": [
         {
          "name": "index",
          "type": "integer"
         },
         {
          "name": "item_category_id",
          "type": "integer"
         },
         {
          "name": "en_category",
          "type": "string"
         }
        ],
        "pandas_version": "0.20.0",
        "primaryKey": [
         "index"
        ]
       }
      },
      "text/html": [
       "<div>\n",
       "<style scoped>\n",
       "    .dataframe tbody tr th:only-of-type {\n",
       "        vertical-align: middle;\n",
       "    }\n",
       "\n",
       "    .dataframe tbody tr th {\n",
       "        vertical-align: top;\n",
       "    }\n",
       "\n",
       "    .dataframe thead th {\n",
       "        text-align: right;\n",
       "    }\n",
       "</style>\n",
       "<table border=\"1\" class=\"dataframe\">\n",
       "  <thead>\n",
       "    <tr style=\"text-align: right;\">\n",
       "      <th></th>\n",
       "      <th>item_category_id</th>\n",
       "      <th>en_category</th>\n",
       "    </tr>\n",
       "  </thead>\n",
       "  <tbody>\n",
       "    <tr>\n",
       "      <th>0</th>\n",
       "      <td>0</td>\n",
       "      <td>PC - Headsets / Headphones</td>\n",
       "    </tr>\n",
       "    <tr>\n",
       "      <th>1</th>\n",
       "      <td>1</td>\n",
       "      <td>Accessories - PS2</td>\n",
       "    </tr>\n",
       "    <tr>\n",
       "      <th>2</th>\n",
       "      <td>2</td>\n",
       "      <td>Accessories - PS3</td>\n",
       "    </tr>\n",
       "    <tr>\n",
       "      <th>3</th>\n",
       "      <td>3</td>\n",
       "      <td>Accessories - PS4</td>\n",
       "    </tr>\n",
       "    <tr>\n",
       "      <th>4</th>\n",
       "      <td>4</td>\n",
       "      <td>Accessories - PSP</td>\n",
       "    </tr>\n",
       "  </tbody>\n",
       "</table>\n",
       "</div>"
      ],
      "text/plain": [
       "   item_category_id                 en_category\n",
       "0                 0  PC - Headsets / Headphones\n",
       "1                 1           Accessories - PS2\n",
       "2                 2           Accessories - PS3\n",
       "3                 3           Accessories - PS4\n",
       "4                 4           Accessories - PSP"
      ]
     },
     "execution_count": 60,
     "metadata": {},
     "output_type": "execute_result"
    }
   ],
   "source": [
    "categories_df = pd.read_csv(\"../data/item_categories_trans.csv\")\n",
    "del categories_df[\"item_category_name\"]\n",
    "categories_df.head()"
   ]
  },
  {
   "cell_type": "code",
   "execution_count": 59,
   "metadata": {},
   "outputs": [
    {
     "data": {
      "application/vnd.dataresource+json": {
       "data": [
        {
         "index": 0,
         "item_category_id": 40,
         "item_id": 0
        },
        {
         "index": 1,
         "item_category_id": 76,
         "item_id": 1
        },
        {
         "index": 2,
         "item_category_id": 40,
         "item_id": 2
        },
        {
         "index": 3,
         "item_category_id": 40,
         "item_id": 3
        },
        {
         "index": 4,
         "item_category_id": 40,
         "item_id": 4
        }
       ],
       "schema": {
        "fields": [
         {
          "name": "index",
          "type": "integer"
         },
         {
          "name": "item_id",
          "type": "integer"
         },
         {
          "name": "item_category_id",
          "type": "integer"
         }
        ],
        "pandas_version": "0.20.0",
        "primaryKey": [
         "index"
        ]
       }
      },
      "text/html": [
       "<div>\n",
       "<style scoped>\n",
       "    .dataframe tbody tr th:only-of-type {\n",
       "        vertical-align: middle;\n",
       "    }\n",
       "\n",
       "    .dataframe tbody tr th {\n",
       "        vertical-align: top;\n",
       "    }\n",
       "\n",
       "    .dataframe thead th {\n",
       "        text-align: right;\n",
       "    }\n",
       "</style>\n",
       "<table border=\"1\" class=\"dataframe\">\n",
       "  <thead>\n",
       "    <tr style=\"text-align: right;\">\n",
       "      <th></th>\n",
       "      <th>item_id</th>\n",
       "      <th>item_category_id</th>\n",
       "    </tr>\n",
       "  </thead>\n",
       "  <tbody>\n",
       "    <tr>\n",
       "      <th>0</th>\n",
       "      <td>0</td>\n",
       "      <td>40</td>\n",
       "    </tr>\n",
       "    <tr>\n",
       "      <th>1</th>\n",
       "      <td>1</td>\n",
       "      <td>76</td>\n",
       "    </tr>\n",
       "    <tr>\n",
       "      <th>2</th>\n",
       "      <td>2</td>\n",
       "      <td>40</td>\n",
       "    </tr>\n",
       "    <tr>\n",
       "      <th>3</th>\n",
       "      <td>3</td>\n",
       "      <td>40</td>\n",
       "    </tr>\n",
       "    <tr>\n",
       "      <th>4</th>\n",
       "      <td>4</td>\n",
       "      <td>40</td>\n",
       "    </tr>\n",
       "  </tbody>\n",
       "</table>\n",
       "</div>"
      ],
      "text/plain": [
       "   item_id  item_category_id\n",
       "0        0                40\n",
       "1        1                76\n",
       "2        2                40\n",
       "3        3                40\n",
       "4        4                40"
      ]
     },
     "execution_count": 59,
     "metadata": {},
     "output_type": "execute_result"
    }
   ],
   "source": [
    "item_df = pd.read_csv(\"../data/items.csv\")\n",
    "del item_df[\"item_name\"]\n",
    "item_df.head()"
   ]
  },
  {
   "cell_type": "code",
   "execution_count": 62,
   "metadata": {},
   "outputs": [
    {
     "data": {
      "application/vnd.dataresource+json": {
       "data": [
        {
         "Region": "Yaroslavl",
         "category_id": 37,
         "day": "02",
         "en_shop": "Yaroslavl Shopping center \"Altair\"",
         "index": 0,
         "item_cnt_day": 1,
         "item_id": 22154,
         "item_price": 999,
         "month": "01",
         "shop_id": 59,
         "year": "2013"
        },
        {
         "Region": "Yaroslavl",
         "category_id": 40,
         "day": "10",
         "en_shop": "Yaroslavl Shopping center \"Altair\"",
         "index": 1,
         "item_cnt_day": 1,
         "item_id": 22151,
         "item_price": 399,
         "month": "01",
         "shop_id": 59,
         "year": "2013"
        },
        {
         "Region": "Yaroslavl",
         "category_id": 5,
         "day": "04",
         "en_shop": "Yaroslavl Shopping center \"Altair\"",
         "index": 2,
         "item_cnt_day": 1,
         "item_id": 5603,
         "item_price": 699,
         "month": "01",
         "shop_id": 59,
         "year": "2013"
        },
        {
         "Region": "Yaroslavl",
         "category_id": 5,
         "day": "19",
         "en_shop": "Yaroslavl Shopping center \"Altair\"",
         "index": 3,
         "item_cnt_day": 2,
         "item_id": 5587,
         "item_price": 199,
         "month": "01",
         "shop_id": 59,
         "year": "2013"
        },
        {
         "Region": "Yaroslavl",
         "category_id": 2,
         "day": "31",
         "en_shop": "Yaroslavl Shopping center \"Altair\"",
         "index": 4,
         "item_cnt_day": 1,
         "item_id": 5613,
         "item_price": 5571,
         "month": "01",
         "shop_id": 59,
         "year": "2013"
        }
       ],
       "schema": {
        "fields": [
         {
          "name": "index",
          "type": "integer"
         },
         {
          "name": "shop_id",
          "type": "integer"
         },
         {
          "name": "item_id",
          "type": "integer"
         },
         {
          "name": "item_price",
          "type": "number"
         },
         {
          "name": "item_cnt_day",
          "type": "number"
         },
         {
          "name": "en_shop",
          "type": "string"
         },
         {
          "name": "Region",
          "type": "string"
         },
         {
          "name": "day",
          "type": "string"
         },
         {
          "name": "month",
          "type": "string"
         },
         {
          "name": "year",
          "type": "string"
         },
         {
          "name": "category_id",
          "type": "integer"
         }
        ],
        "pandas_version": "0.20.0",
        "primaryKey": [
         "index"
        ]
       }
      },
      "text/html": [
       "<div>\n",
       "<style scoped>\n",
       "    .dataframe tbody tr th:only-of-type {\n",
       "        vertical-align: middle;\n",
       "    }\n",
       "\n",
       "    .dataframe tbody tr th {\n",
       "        vertical-align: top;\n",
       "    }\n",
       "\n",
       "    .dataframe thead th {\n",
       "        text-align: right;\n",
       "    }\n",
       "</style>\n",
       "<table border=\"1\" class=\"dataframe\">\n",
       "  <thead>\n",
       "    <tr style=\"text-align: right;\">\n",
       "      <th></th>\n",
       "      <th>shop_id</th>\n",
       "      <th>item_id</th>\n",
       "      <th>item_price</th>\n",
       "      <th>item_cnt_day</th>\n",
       "      <th>en_shop</th>\n",
       "      <th>Region</th>\n",
       "      <th>day</th>\n",
       "      <th>month</th>\n",
       "      <th>year</th>\n",
       "      <th>category_id</th>\n",
       "    </tr>\n",
       "  </thead>\n",
       "  <tbody>\n",
       "    <tr>\n",
       "      <th>0</th>\n",
       "      <td>59</td>\n",
       "      <td>22154</td>\n",
       "      <td>999.0</td>\n",
       "      <td>1.0</td>\n",
       "      <td>Yaroslavl Shopping center \"Altair\"</td>\n",
       "      <td>Yaroslavl</td>\n",
       "      <td>02</td>\n",
       "      <td>01</td>\n",
       "      <td>2013</td>\n",
       "      <td>37</td>\n",
       "    </tr>\n",
       "    <tr>\n",
       "      <th>1</th>\n",
       "      <td>59</td>\n",
       "      <td>22151</td>\n",
       "      <td>399.0</td>\n",
       "      <td>1.0</td>\n",
       "      <td>Yaroslavl Shopping center \"Altair\"</td>\n",
       "      <td>Yaroslavl</td>\n",
       "      <td>10</td>\n",
       "      <td>01</td>\n",
       "      <td>2013</td>\n",
       "      <td>40</td>\n",
       "    </tr>\n",
       "    <tr>\n",
       "      <th>2</th>\n",
       "      <td>59</td>\n",
       "      <td>5603</td>\n",
       "      <td>699.0</td>\n",
       "      <td>1.0</td>\n",
       "      <td>Yaroslavl Shopping center \"Altair\"</td>\n",
       "      <td>Yaroslavl</td>\n",
       "      <td>04</td>\n",
       "      <td>01</td>\n",
       "      <td>2013</td>\n",
       "      <td>5</td>\n",
       "    </tr>\n",
       "    <tr>\n",
       "      <th>3</th>\n",
       "      <td>59</td>\n",
       "      <td>5587</td>\n",
       "      <td>199.0</td>\n",
       "      <td>2.0</td>\n",
       "      <td>Yaroslavl Shopping center \"Altair\"</td>\n",
       "      <td>Yaroslavl</td>\n",
       "      <td>19</td>\n",
       "      <td>01</td>\n",
       "      <td>2013</td>\n",
       "      <td>5</td>\n",
       "    </tr>\n",
       "    <tr>\n",
       "      <th>4</th>\n",
       "      <td>59</td>\n",
       "      <td>5613</td>\n",
       "      <td>5571.0</td>\n",
       "      <td>1.0</td>\n",
       "      <td>Yaroslavl Shopping center \"Altair\"</td>\n",
       "      <td>Yaroslavl</td>\n",
       "      <td>31</td>\n",
       "      <td>01</td>\n",
       "      <td>2013</td>\n",
       "      <td>2</td>\n",
       "    </tr>\n",
       "  </tbody>\n",
       "</table>\n",
       "</div>"
      ],
      "text/plain": [
       "   shop_id  item_id  item_price  item_cnt_day  \\\n",
       "0       59    22154       999.0           1.0   \n",
       "1       59    22151       399.0           1.0   \n",
       "2       59     5603       699.0           1.0   \n",
       "3       59     5587       199.0           2.0   \n",
       "4       59     5613      5571.0           1.0   \n",
       "\n",
       "                              en_shop     Region day month  year  category_id  \n",
       "0  Yaroslavl Shopping center \"Altair\"  Yaroslavl  02    01  2013           37  \n",
       "1  Yaroslavl Shopping center \"Altair\"  Yaroslavl  10    01  2013           40  \n",
       "2  Yaroslavl Shopping center \"Altair\"  Yaroslavl  04    01  2013            5  \n",
       "3  Yaroslavl Shopping center \"Altair\"  Yaroslavl  19    01  2013            5  \n",
       "4  Yaroslavl Shopping center \"Altair\"  Yaroslavl  31    01  2013            2  "
      ]
     },
     "execution_count": 62,
     "metadata": {},
     "output_type": "execute_result"
    }
   ],
   "source": [
    "category_id = []\n",
    "for i in all_data[\"item_id\"]:\n",
    "    category_id.append(np.squeeze(item_df[\"item_category_id\"].loc[item_df[\"item_id\"]==i]))\n",
    "all_data[\"category_id\"] = category_id\n",
    "all_data.head()"
   ]
  },
  {
   "cell_type": "code",
   "execution_count": 88,
   "metadata": {},
   "outputs": [],
   "source": [
    "def splitcategory(x):\n",
    "    if '-' in x:\n",
    "        a = x.split('-')\n",
    "        for i in a:\n",
    "            i.strip()\n",
    "        return a[0],a[1]\n",
    "    else:\n",
    "        return x, None"
   ]
  },
  {
   "cell_type": "code",
   "execution_count": 70,
   "metadata": {},
   "outputs": [],
   "source": [
    "all_cate =  list(map(splitcategory, categories_df[\"en_category\"]))\n",
    "big_cate = []\n",
    "small_cate = []\n",
    "for i in all_cate:\n",
    "    big, small = i\n",
    "    big_cate.append(big)\n",
    "    small_cate.append(small)\n",
    "categories_df[\"big_cate\"]= big_cate\n",
    "categories_df[\"small_cate\"] = small_cate"
   ]
  },
  {
   "cell_type": "code",
   "execution_count": 105,
   "metadata": {},
   "outputs": [],
   "source": [
    "big_dict = {}\n",
    "small_dict = {}\n",
    "category_dict = {}\n",
    "category_id = categories_df[\"item_category_id\"].tolist()\n",
    "category_name = categories_df[\"en_category\"].tolist()\n",
    "big_cate = categories_df[\"big_cate\"].tolist()\n",
    "small_cate = categories_df[\"small_cate\"].tolist()\n",
    "category = zip(category_name, big_cate, small_cate)\n",
    "for i,j in zip(category_id, category):\n",
    "    q,w,e = j\n",
    "    category_dict[i] = q\n",
    "    big_dict[i] = w\n",
    "    small_dict[i] = e"
   ]
  },
  {
   "cell_type": "code",
   "execution_count": 107,
   "metadata": {},
   "outputs": [
    {
     "data": {
      "application/vnd.dataresource+json": {
       "data": [
        {
         "Region": "Yaroslavl",
         "big_cate": "Cinema ",
         "category": "Cinema - Blu-Ray",
         "category_id": 37,
         "day": "02",
         "en_shop": "Yaroslavl Shopping center \"Altair\"",
         "index": 0,
         "item_cnt_day": 1,
         "item_id": 22154,
         "item_price": 999,
         "month": "01",
         "shop_id": 59,
         "small_cate": " Blu",
         "year": "2013"
        },
        {
         "Region": "Yaroslavl",
         "big_cate": "Cinema ",
         "category": "Cinema - DVD",
         "category_id": 40,
         "day": "10",
         "en_shop": "Yaroslavl Shopping center \"Altair\"",
         "index": 1,
         "item_cnt_day": 1,
         "item_id": 22151,
         "item_price": 399,
         "month": "01",
         "shop_id": 59,
         "small_cate": " DVD",
         "year": "2013"
        },
        {
         "Region": "Yaroslavl",
         "big_cate": "Accessories ",
         "category": "Accessories - PSVita",
         "category_id": 5,
         "day": "04",
         "en_shop": "Yaroslavl Shopping center \"Altair\"",
         "index": 2,
         "item_cnt_day": 1,
         "item_id": 5603,
         "item_price": 699,
         "month": "01",
         "shop_id": 59,
         "small_cate": " PSVita",
         "year": "2013"
        },
        {
         "Region": "Yaroslavl",
         "big_cate": "Accessories ",
         "category": "Accessories - PSVita",
         "category_id": 5,
         "day": "19",
         "en_shop": "Yaroslavl Shopping center \"Altair\"",
         "index": 3,
         "item_cnt_day": 2,
         "item_id": 5587,
         "item_price": 199,
         "month": "01",
         "shop_id": 59,
         "small_cate": " PSVita",
         "year": "2013"
        },
        {
         "Region": "Yaroslavl",
         "big_cate": "Accessories ",
         "category": "Accessories - PS3",
         "category_id": 2,
         "day": "31",
         "en_shop": "Yaroslavl Shopping center \"Altair\"",
         "index": 4,
         "item_cnt_day": 1,
         "item_id": 5613,
         "item_price": 5571,
         "month": "01",
         "shop_id": 59,
         "small_cate": " PS3",
         "year": "2013"
        }
       ],
       "schema": {
        "fields": [
         {
          "name": "index",
          "type": "integer"
         },
         {
          "name": "shop_id",
          "type": "integer"
         },
         {
          "name": "item_id",
          "type": "integer"
         },
         {
          "name": "item_price",
          "type": "number"
         },
         {
          "name": "item_cnt_day",
          "type": "number"
         },
         {
          "name": "en_shop",
          "type": "string"
         },
         {
          "name": "Region",
          "type": "string"
         },
         {
          "name": "day",
          "type": "string"
         },
         {
          "name": "month",
          "type": "string"
         },
         {
          "name": "year",
          "type": "string"
         },
         {
          "name": "category_id",
          "type": "integer"
         },
         {
          "name": "category",
          "type": "string"
         },
         {
          "name": "big_cate",
          "type": "string"
         },
         {
          "name": "small_cate",
          "type": "string"
         }
        ],
        "pandas_version": "0.20.0",
        "primaryKey": [
         "index"
        ]
       }
      },
      "text/html": [
       "<div>\n",
       "<style scoped>\n",
       "    .dataframe tbody tr th:only-of-type {\n",
       "        vertical-align: middle;\n",
       "    }\n",
       "\n",
       "    .dataframe tbody tr th {\n",
       "        vertical-align: top;\n",
       "    }\n",
       "\n",
       "    .dataframe thead th {\n",
       "        text-align: right;\n",
       "    }\n",
       "</style>\n",
       "<table border=\"1\" class=\"dataframe\">\n",
       "  <thead>\n",
       "    <tr style=\"text-align: right;\">\n",
       "      <th></th>\n",
       "      <th>shop_id</th>\n",
       "      <th>item_id</th>\n",
       "      <th>item_price</th>\n",
       "      <th>item_cnt_day</th>\n",
       "      <th>en_shop</th>\n",
       "      <th>Region</th>\n",
       "      <th>day</th>\n",
       "      <th>month</th>\n",
       "      <th>year</th>\n",
       "      <th>category_id</th>\n",
       "      <th>category</th>\n",
       "      <th>big_cate</th>\n",
       "      <th>small_cate</th>\n",
       "    </tr>\n",
       "  </thead>\n",
       "  <tbody>\n",
       "    <tr>\n",
       "      <th>0</th>\n",
       "      <td>59</td>\n",
       "      <td>22154</td>\n",
       "      <td>999.0</td>\n",
       "      <td>1.0</td>\n",
       "      <td>Yaroslavl Shopping center \"Altair\"</td>\n",
       "      <td>Yaroslavl</td>\n",
       "      <td>02</td>\n",
       "      <td>01</td>\n",
       "      <td>2013</td>\n",
       "      <td>37</td>\n",
       "      <td>Cinema - Blu-Ray</td>\n",
       "      <td>Cinema</td>\n",
       "      <td>Blu</td>\n",
       "    </tr>\n",
       "    <tr>\n",
       "      <th>1</th>\n",
       "      <td>59</td>\n",
       "      <td>22151</td>\n",
       "      <td>399.0</td>\n",
       "      <td>1.0</td>\n",
       "      <td>Yaroslavl Shopping center \"Altair\"</td>\n",
       "      <td>Yaroslavl</td>\n",
       "      <td>10</td>\n",
       "      <td>01</td>\n",
       "      <td>2013</td>\n",
       "      <td>40</td>\n",
       "      <td>Cinema - DVD</td>\n",
       "      <td>Cinema</td>\n",
       "      <td>DVD</td>\n",
       "    </tr>\n",
       "    <tr>\n",
       "      <th>2</th>\n",
       "      <td>59</td>\n",
       "      <td>5603</td>\n",
       "      <td>699.0</td>\n",
       "      <td>1.0</td>\n",
       "      <td>Yaroslavl Shopping center \"Altair\"</td>\n",
       "      <td>Yaroslavl</td>\n",
       "      <td>04</td>\n",
       "      <td>01</td>\n",
       "      <td>2013</td>\n",
       "      <td>5</td>\n",
       "      <td>Accessories - PSVita</td>\n",
       "      <td>Accessories</td>\n",
       "      <td>PSVita</td>\n",
       "    </tr>\n",
       "    <tr>\n",
       "      <th>3</th>\n",
       "      <td>59</td>\n",
       "      <td>5587</td>\n",
       "      <td>199.0</td>\n",
       "      <td>2.0</td>\n",
       "      <td>Yaroslavl Shopping center \"Altair\"</td>\n",
       "      <td>Yaroslavl</td>\n",
       "      <td>19</td>\n",
       "      <td>01</td>\n",
       "      <td>2013</td>\n",
       "      <td>5</td>\n",
       "      <td>Accessories - PSVita</td>\n",
       "      <td>Accessories</td>\n",
       "      <td>PSVita</td>\n",
       "    </tr>\n",
       "    <tr>\n",
       "      <th>4</th>\n",
       "      <td>59</td>\n",
       "      <td>5613</td>\n",
       "      <td>5571.0</td>\n",
       "      <td>1.0</td>\n",
       "      <td>Yaroslavl Shopping center \"Altair\"</td>\n",
       "      <td>Yaroslavl</td>\n",
       "      <td>31</td>\n",
       "      <td>01</td>\n",
       "      <td>2013</td>\n",
       "      <td>2</td>\n",
       "      <td>Accessories - PS3</td>\n",
       "      <td>Accessories</td>\n",
       "      <td>PS3</td>\n",
       "    </tr>\n",
       "  </tbody>\n",
       "</table>\n",
       "</div>"
      ],
      "text/plain": [
       "   shop_id  item_id  item_price  item_cnt_day  \\\n",
       "0       59    22154       999.0           1.0   \n",
       "1       59    22151       399.0           1.0   \n",
       "2       59     5603       699.0           1.0   \n",
       "3       59     5587       199.0           2.0   \n",
       "4       59     5613      5571.0           1.0   \n",
       "\n",
       "                              en_shop     Region day month  year  category_id  \\\n",
       "0  Yaroslavl Shopping center \"Altair\"  Yaroslavl  02    01  2013           37   \n",
       "1  Yaroslavl Shopping center \"Altair\"  Yaroslavl  10    01  2013           40   \n",
       "2  Yaroslavl Shopping center \"Altair\"  Yaroslavl  04    01  2013            5   \n",
       "3  Yaroslavl Shopping center \"Altair\"  Yaroslavl  19    01  2013            5   \n",
       "4  Yaroslavl Shopping center \"Altair\"  Yaroslavl  31    01  2013            2   \n",
       "\n",
       "               category      big_cate small_cate  \n",
       "0      Cinema - Blu-Ray       Cinema         Blu  \n",
       "1          Cinema - DVD       Cinema         DVD  \n",
       "2  Accessories - PSVita  Accessories      PSVita  \n",
       "3  Accessories - PSVita  Accessories      PSVita  \n",
       "4     Accessories - PS3  Accessories         PS3  "
      ]
     },
     "execution_count": 107,
     "metadata": {},
     "output_type": "execute_result"
    }
   ],
   "source": [
    "category = []\n",
    "big = []\n",
    "small = []\n",
    "for i in all_data[\"category_id\"]:\n",
    "    category.append(category_dict[i])\n",
    "    big.append(big_dict[i])\n",
    "    small.append(small_dict[i])\n",
    "all_data[\"category\"] = category\n",
    "all_data[\"big_cate\"] = big\n",
    "all_data[\"small_cate\"] = small\n",
    "all_data.head()"
   ]
  },
  {
   "cell_type": "code",
   "execution_count": 109,
   "metadata": {},
   "outputs": [
    {
     "data": {
      "text/plain": [
       "(2935849, 13)"
      ]
     },
     "execution_count": 109,
     "metadata": {},
     "output_type": "execute_result"
    }
   ],
   "source": [
    "all_data.shape"
   ]
  },
  {
   "cell_type": "code",
   "execution_count": 108,
   "metadata": {},
   "outputs": [],
   "source": [
    "all_data.to_csv(\"merged_data.csv\", index=False)"
   ]
  }
 ],
 "metadata": {
  "kernelspec": {
   "display_name": "Python 3",
   "language": "python",
   "name": "python3"
  },
  "language_info": {
   "codemirror_mode": {
    "name": "ipython",
    "version": 3
   },
   "file_extension": ".py",
   "mimetype": "text/x-python",
   "name": "python",
   "nbconvert_exporter": "python",
   "pygments_lexer": "ipython3",
   "version": "3.5.4"
  }
 },
 "nbformat": 4,
 "nbformat_minor": 2
}
