{
 "cells": [
  {
   "cell_type": "code",
   "execution_count": 1,
   "metadata": {},
   "outputs": [],
   "source": [
    "import pandas as pd\n",
    "import numpy as np\n",
    "import os"
   ]
  },
  {
   "cell_type": "code",
   "execution_count": 5,
   "metadata": {},
   "outputs": [
    {
     "data": {
      "text/html": [
       "<div>\n",
       "<style scoped>\n",
       "    .dataframe tbody tr th:only-of-type {\n",
       "        vertical-align: middle;\n",
       "    }\n",
       "\n",
       "    .dataframe tbody tr th {\n",
       "        vertical-align: top;\n",
       "    }\n",
       "\n",
       "    .dataframe thead th {\n",
       "        text-align: right;\n",
       "    }\n",
       "</style>\n",
       "<table border=\"1\" class=\"dataframe\">\n",
       "  <thead>\n",
       "    <tr style=\"text-align: right;\">\n",
       "      <th></th>\n",
       "      <th>shop_id</th>\n",
       "      <th>item_id</th>\n",
       "      <th>item_price</th>\n",
       "      <th>item_cnt_day</th>\n",
       "      <th>en_shop</th>\n",
       "      <th>Region</th>\n",
       "      <th>day</th>\n",
       "      <th>month</th>\n",
       "      <th>year</th>\n",
       "      <th>category_id</th>\n",
       "      <th>category</th>\n",
       "      <th>big_cate</th>\n",
       "      <th>small_cate</th>\n",
       "    </tr>\n",
       "  </thead>\n",
       "  <tbody>\n",
       "    <tr>\n",
       "      <th>0</th>\n",
       "      <td>59</td>\n",
       "      <td>22154</td>\n",
       "      <td>999.0</td>\n",
       "      <td>1.0</td>\n",
       "      <td>Yaroslavl Shopping center \"Altair\"</td>\n",
       "      <td>Yaroslavl</td>\n",
       "      <td>2</td>\n",
       "      <td>1</td>\n",
       "      <td>2013</td>\n",
       "      <td>37</td>\n",
       "      <td>Cinema - Blu-Ray</td>\n",
       "      <td>Cinema</td>\n",
       "      <td>Blu</td>\n",
       "    </tr>\n",
       "    <tr>\n",
       "      <th>1</th>\n",
       "      <td>59</td>\n",
       "      <td>22151</td>\n",
       "      <td>399.0</td>\n",
       "      <td>1.0</td>\n",
       "      <td>Yaroslavl Shopping center \"Altair\"</td>\n",
       "      <td>Yaroslavl</td>\n",
       "      <td>10</td>\n",
       "      <td>1</td>\n",
       "      <td>2013</td>\n",
       "      <td>40</td>\n",
       "      <td>Cinema - DVD</td>\n",
       "      <td>Cinema</td>\n",
       "      <td>DVD</td>\n",
       "    </tr>\n",
       "    <tr>\n",
       "      <th>2</th>\n",
       "      <td>59</td>\n",
       "      <td>5603</td>\n",
       "      <td>699.0</td>\n",
       "      <td>1.0</td>\n",
       "      <td>Yaroslavl Shopping center \"Altair\"</td>\n",
       "      <td>Yaroslavl</td>\n",
       "      <td>4</td>\n",
       "      <td>1</td>\n",
       "      <td>2013</td>\n",
       "      <td>5</td>\n",
       "      <td>Accessories - PSVita</td>\n",
       "      <td>Accessories</td>\n",
       "      <td>PSVita</td>\n",
       "    </tr>\n",
       "    <tr>\n",
       "      <th>3</th>\n",
       "      <td>59</td>\n",
       "      <td>5587</td>\n",
       "      <td>199.0</td>\n",
       "      <td>2.0</td>\n",
       "      <td>Yaroslavl Shopping center \"Altair\"</td>\n",
       "      <td>Yaroslavl</td>\n",
       "      <td>19</td>\n",
       "      <td>1</td>\n",
       "      <td>2013</td>\n",
       "      <td>5</td>\n",
       "      <td>Accessories - PSVita</td>\n",
       "      <td>Accessories</td>\n",
       "      <td>PSVita</td>\n",
       "    </tr>\n",
       "    <tr>\n",
       "      <th>4</th>\n",
       "      <td>59</td>\n",
       "      <td>5613</td>\n",
       "      <td>5571.0</td>\n",
       "      <td>1.0</td>\n",
       "      <td>Yaroslavl Shopping center \"Altair\"</td>\n",
       "      <td>Yaroslavl</td>\n",
       "      <td>31</td>\n",
       "      <td>1</td>\n",
       "      <td>2013</td>\n",
       "      <td>2</td>\n",
       "      <td>Accessories - PS3</td>\n",
       "      <td>Accessories</td>\n",
       "      <td>PS3</td>\n",
       "    </tr>\n",
       "  </tbody>\n",
       "</table>\n",
       "</div>"
      ],
      "text/plain": [
       "   shop_id  item_id  item_price  item_cnt_day  \\\n",
       "0       59    22154       999.0           1.0   \n",
       "1       59    22151       399.0           1.0   \n",
       "2       59     5603       699.0           1.0   \n",
       "3       59     5587       199.0           2.0   \n",
       "4       59     5613      5571.0           1.0   \n",
       "\n",
       "                              en_shop     Region  day  month  year  \\\n",
       "0  Yaroslavl Shopping center \"Altair\"  Yaroslavl    2      1  2013   \n",
       "1  Yaroslavl Shopping center \"Altair\"  Yaroslavl   10      1  2013   \n",
       "2  Yaroslavl Shopping center \"Altair\"  Yaroslavl    4      1  2013   \n",
       "3  Yaroslavl Shopping center \"Altair\"  Yaroslavl   19      1  2013   \n",
       "4  Yaroslavl Shopping center \"Altair\"  Yaroslavl   31      1  2013   \n",
       "\n",
       "   category_id              category      big_cate small_cate  \n",
       "0           37      Cinema - Blu-Ray       Cinema         Blu  \n",
       "1           40          Cinema - DVD       Cinema         DVD  \n",
       "2            5  Accessories - PSVita  Accessories      PSVita  \n",
       "3            5  Accessories - PSVita  Accessories      PSVita  \n",
       "4            2     Accessories - PS3  Accessories         PS3  "
      ]
     },
     "execution_count": 5,
     "metadata": {},
     "output_type": "execute_result"
    }
   ],
   "source": [
    "df = pd.read_csv(\"../../merged_data.csv\")\n",
    "df.head()"
   ]
  },
  {
   "cell_type": "code",
   "execution_count": 61,
   "metadata": {},
   "outputs": [
    {
     "data": {
      "text/plain": [
       "array(['Cinema ', 'Accessories ', 'PC Games ', 'Games ', 'Music ',\n",
       "       'Gifts ', 'Payment cards ', 'Programs ', 'Game Consoles ',\n",
       "       'Books ', 'Elements of a food', 'Office',\n",
       "       'Payment cards (Movies, Music, Games)', 'Tickets (figure)',\n",
       "       'Official ', 'Clean media (piece)', 'Clean carriers (spire)',\n",
       "       'PC ', 'Книги ', 'Delivery of goods', 'Android games ',\n",
       "       'MAC Games ', 'Payment Cards '], dtype=object)"
      ]
     },
     "execution_count": 61,
     "metadata": {},
     "output_type": "execute_result"
    }
   ],
   "source": [
    "df[\"big_cate\"].unique()"
   ]
  },
  {
   "cell_type": "code",
   "execution_count": 65,
   "metadata": {},
   "outputs": [
    {
     "data": {
      "text/plain": [
       "array(['Yaroslavl', 'Moscow', 'Kursk', 'Krasnoyarsk', 'Volzhsky',\n",
       "       'Voronezh', 'Adygea', 'Balashikha', 'Yakutsk', 'Colosseum',\n",
       "       'Kaluga', 'Zhukovsky', 'Kazan', 'Online', 'Ufa', 'Nizhny',\n",
       "       'Chekhov', 'Khimki', 'Surgut', 'Tyumen', 'SPb', 'RostovNaDonu',\n",
       "       'Omsk', 'Samara', 'Novosibirsk', 'Sergiev', 'Vologda', 'Digital',\n",
       "       'Outbound', 'RostovNaDon', 'Tomsk', 'N.Novgorod', 'Mytischi'],\n",
       "      dtype=object)"
      ]
     },
     "execution_count": 65,
     "metadata": {},
     "output_type": "execute_result"
    }
   ],
   "source": [
    "region_list = df[\"Region\"].unique()\n",
    "region_list"
   ]
  },
  {
   "cell_type": "code",
   "execution_count": 63,
   "metadata": {},
   "outputs": [
    {
     "data": {
      "text/plain": [
       "Region\n",
       "Adygea          16\n",
       "Balashikha      15\n",
       "Chekhov         17\n",
       "Colosseum       17\n",
       "Digital          9\n",
       "Kaluga          15\n",
       "Kazan           16\n",
       "Khimki          16\n",
       "Krasnoyarsk     17\n",
       "Kursk           15\n",
       "Moscow          18\n",
       "Mytischi        14\n",
       "N.Novgorod      15\n",
       "Nizhny          15\n",
       "Novosibirsk     17\n",
       "Omsk            16\n",
       "Online          16\n",
       "Outbound        11\n",
       "RostovNaDon     15\n",
       "RostovNaDonu    17\n",
       "SPb             16\n",
       "Samara          17\n",
       "Sergiev         15\n",
       "Surgut          15\n",
       "Tomsk           13\n",
       "Tyumen          17\n",
       "Ufa             17\n",
       "Vologda         15\n",
       "Volzhsky        18\n",
       "Voronezh        17\n",
       "Yakutsk         17\n",
       "Yaroslavl       15\n",
       "Zhukovsky       13\n",
       "Name: item_cnt_day, dtype: int64"
      ]
     },
     "execution_count": 63,
     "metadata": {},
     "output_type": "execute_result"
    }
   ],
   "source": [
    "bcbr = df.groupby([\"Region\",\"big_cate\"])[\"item_cnt_day\"].sum()\n"
   ]
  },
  {
   "cell_type": "code",
   "execution_count": null,
   "metadata": {},
   "outputs": [],
   "source": []
  }
 ],
 "metadata": {
  "kernelspec": {
   "display_name": "Python 3",
   "language": "python",
   "name": "python3"
  },
  "language_info": {
   "codemirror_mode": {
    "name": "ipython",
    "version": 3
   },
   "file_extension": ".py",
   "mimetype": "text/x-python",
   "name": "python",
   "nbconvert_exporter": "python",
   "pygments_lexer": "ipython3",
   "version": "3.5.4"
  }
 },
 "nbformat": 4,
 "nbformat_minor": 2
}
